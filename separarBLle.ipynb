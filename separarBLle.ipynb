{
 "cells": [
  {
   "cell_type": "code",
   "execution_count": 7,
   "metadata": {},
   "outputs": [],
   "source": [
    "import pandas as pd\n",
    "import os\n",
    "import numpy as np\n",
    "import glob\n",
    "\n",
    "with os.scandir() as ficheros:\n",
    "    subdirectorios = [fichero.name for fichero in ficheros if fichero.is_dir()]\n",
    "    \n",
    "subdirectorios.remove('.ipynb_checkpoints')    "
   ]
  },
  {
   "cell_type": "code",
   "execution_count": 8,
   "metadata": {},
   "outputs": [],
   "source": [
    "for i in range(len(subdirectorios)):\n",
    "    path=subdirectorios[i]+'/'\n",
    "    for f in glob.glob(path + \"*.csv\"):\n",
    "        df=pd.read_csv(f)\n",
    "        name=f.split('/')\n",
    "        archivo=name[1]\n",
    "        newname=archivo.split('_')\n",
    "        \n",
    "            \n",
    "        if newname[6]=='bluetoothle':\n",
    "            \n",
    "            path= '/media/sandro/Data/Universidad/Beca/5-Experimentos/2021/Separar/le'\n",
    "            df.to_csv(os.path.join(path,archivo), index=False)\n",
    "            \n"
   ]
  },
  {
   "cell_type": "code",
   "execution_count": null,
   "metadata": {},
   "outputs": [],
   "source": [
    "newname"
   ]
  },
  {
   "cell_type": "code",
   "execution_count": null,
   "metadata": {},
   "outputs": [],
   "source": [
    "newname"
   ]
  },
  {
   "cell_type": "code",
   "execution_count": null,
   "metadata": {},
   "outputs": [],
   "source": []
  }
 ],
 "metadata": {
  "kernelspec": {
   "display_name": "Python 3",
   "language": "python",
   "name": "python3"
  },
  "language_info": {
   "codemirror_mode": {
    "name": "ipython",
    "version": 3
   },
   "file_extension": ".py",
   "mimetype": "text/x-python",
   "name": "python",
   "nbconvert_exporter": "python",
   "pygments_lexer": "ipython3",
   "version": "3.8.5"
  }
 },
 "nbformat": 4,
 "nbformat_minor": 4
}
