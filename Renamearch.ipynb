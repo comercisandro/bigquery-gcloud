{
 "cells": [
  {
   "cell_type": "code",
   "execution_count": 9,
   "metadata": {},
   "outputs": [],
   "source": [
    "import os\n",
    "import pandas as pd\n",
    "import numpy as np\n",
    "import glob\n",
    "with os.scandir() as ficheros:\n",
    "    subdirectorios = [fichero.name for fichero in ficheros if fichero.is_dir()]\n",
    "    \n",
    "subdirectorios.remove('.ipynb_checkpoints')    \n",
    "\n",
    "\n",
    "for i in range(len(subdirectorios)):\n",
    "    path=subdirectorios[i]+'/'\n",
    "    for f in glob.glob(path + \"*.csv\"):\n",
    "        df=pd.read_csv(f)\n",
    "        name=f.split('/')\n",
    "        name1=name[1].replace('x','z')\n",
    "        name1=name1.split('_')\n",
    "        name2=name1[0].split('-')\n",
    "\n",
    "    namefile=name2[1]+'_'+name1[1]+'_'+name1[2]+'_'+name1[3]+'_'+name1[4]\n",
    "    os.rename(subdirectorios[i],namefile)"
   ]
  },
  {
   "cell_type": "code",
   "execution_count": 6,
   "metadata": {},
   "outputs": [
    {
     "data": {
      "text/plain": [
       "['v1.4_in_x(a,m)_3.0_-x(c,l)', 'X-v1.4_in_-z(a,m)_3.0_-z(c,l)_R-2_wifi_L.csv']"
      ]
     },
     "execution_count": 6,
     "metadata": {},
     "output_type": "execute_result"
    }
   ],
   "source": [
    "name"
   ]
  },
  {
   "cell_type": "code",
   "execution_count": 7,
   "metadata": {},
   "outputs": [
    {
     "data": {
      "text/plain": [
       "['X-v1.4', 'in', '-z(a,m)', '3.0', '-z(c,l)', 'R-2', 'wifi', 'L.csv']"
      ]
     },
     "execution_count": 7,
     "metadata": {},
     "output_type": "execute_result"
    }
   ],
   "source": [
    "name1"
   ]
  },
  {
   "cell_type": "code",
   "execution_count": 8,
   "metadata": {},
   "outputs": [
    {
     "data": {
      "text/plain": [
       "['X', 'v1.4']"
      ]
     },
     "execution_count": 8,
     "metadata": {},
     "output_type": "execute_result"
    }
   ],
   "source": [
    "name2"
   ]
  },
  {
   "cell_type": "code",
   "execution_count": null,
   "metadata": {},
   "outputs": [],
   "source": []
  }
 ],
 "metadata": {
  "kernelspec": {
   "display_name": "Python 3",
   "language": "python",
   "name": "python3"
  },
  "language_info": {
   "codemirror_mode": {
    "name": "ipython",
    "version": 3
   },
   "file_extension": ".py",
   "mimetype": "text/x-python",
   "name": "python",
   "nbconvert_exporter": "python",
   "pygments_lexer": "ipython3",
   "version": "3.8.5"
  }
 },
 "nbformat": 4,
 "nbformat_minor": 4
}
